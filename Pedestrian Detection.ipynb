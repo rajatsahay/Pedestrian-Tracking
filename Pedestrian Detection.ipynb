{
 "cells": [
  {
   "cell_type": "code",
   "execution_count": 14,
   "metadata": {},
   "outputs": [],
   "source": [
    "from imutils.video import FPS\n",
    "import numpy as np\n",
    "import argparse\n",
    "import imutils\n",
    "import dlib\n",
    "import cv2\n",
    "import random\n",
    "import math"
   ]
  },
  {
   "cell_type": "code",
   "execution_count": 15,
   "metadata": {},
   "outputs": [
    {
     "name": "stdout",
     "output_type": "stream",
     "text": [
      "Loading model...\n"
     ]
    }
   ],
   "source": [
    "Classes=[\"background\", \"aeroplane\", \"bicycle\", \"bird\", \"boat\",\n",
    "    \"bottle\", \"bus\", \"car\", \"cat\", \"chair\", \"cow\", \"diningtable\",\n",
    "    \"dog\", \"horse\", \"motorbike\", \"person\", \"pottedplant\", \"sheep\",\n",
    "    \"sofa\", \"train\", \"tvmonitor\"]\n",
    "\n",
    "output=\"D:\\\\Research\\\\multiobject-tracking-dlib\\\\town_output.avi\"\n",
    "\n",
    "# load our serialized model from disk\n",
    "print(\"Loading model...\")\n",
    "net = cv2.dnn.readNetFromCaffe(\"D:\\\\Research\\\\multiobject-tracking-dlib\\\\mobilenet_ssd\\\\MobileNetSSD_deploy.prototxt\", \n",
    "                              \"D:\\\\Research\\\\multiobject-tracking-dlib\\\\mobilenet_ssd\\\\MobileNetSSD_deploy.caffemodel\")"
   ]
  },
  {
   "cell_type": "code",
   "execution_count": 16,
   "metadata": {},
   "outputs": [],
   "source": [
    "def estimateSpeed(location1, location2):\n",
    "    d_pixels=math.sqrt(math.pow(location2[0] - location1[0], 2) + math.pow(location2[1] - location1[1], 2))\n",
    "    # ppm=location2[2] / carWidht\n",
    "    ppm=8.8\n",
    "    d_meters=d_pixels / ppm\n",
    "    #print(\"d_pixels=\" + str(d_pixels), \"d_meters=\" + str(d_meters))\n",
    "    fps=18\n",
    "    speed=d_meters * fps * 3.6\n",
    "    return speed"
   ]
  },
  {
   "cell_type": "code",
   "execution_count": 18,
   "metadata": {},
   "outputs": [
    {
     "name": "stdout",
     "output_type": "stream",
     "text": [
      "Elapsed Time 7.74\n",
      "Approx FPS 12.41\n"
     ]
    }
   ],
   "source": [
    "vs=cv2.VideoCapture(\"D:\\\\Research\\\\multiobject-tracking-dlib\\\\TownCentreXVID.avi\")\n",
    "#vs=cv2.VideoCapture(\"D:\\\\Research\\\\multiobject-tracking-dlib\\\\town-center.mp4\")\n",
    "writer=None\n",
    "speed=[None]*1000\n",
    "\n",
    "trackers=[]\n",
    "labels=[]\n",
    "\n",
    "fps=FPS().start()\n",
    "while True:    \n",
    "    (grabbed,frame)=vs.read()\n",
    "    if frame is None:\n",
    "        break\n",
    "        \n",
    "    frame=imutils.resize(frame,width=600)\n",
    "    #print(frame.shape)\n",
    "    #frame = cv2.resize(frame, (600,480))\n",
    "    rgb=cv2.cvtColor(frame,cv2.COLOR_BGR2RGB)\n",
    "    \n",
    "    if output is not None and writer is None:\n",
    "        fourcc=cv2.VideoWriter_fourcc(*\"MJPG\")\n",
    "        writer=cv2.VideoWriter(output,fourcc,30,(frame.shape[1],frame.shape[0]),True)\n",
    "        \n",
    "    if len(trackers)==0:\n",
    "        (h,w)=frame.shape[:2]\n",
    "        blob=cv2.dnn.blobFromImage(frame,0.007843,(w,h),127.5)\n",
    "            \n",
    "        net.setInput(blob)\n",
    "        detections=net.forward()\n",
    "            \n",
    "        for i in np.arange(0, detections.shape[2]):\n",
    "            confidence=detections[0,0,i,2]\n",
    "                \n",
    "            if confidence>0:\n",
    "                idx=int(detections[0,0,i,1])\n",
    "                label=Classes[idx]\n",
    "                    \n",
    "                #if class label is not person, ignore\n",
    "                if Classes[idx]!=\"person\":\n",
    "                    continue\n",
    "                    \n",
    "                box=detections[0,0,i,3:7]*np.array([w,h,w,h])\n",
    "                (startX,startY,endX,endY)=box.astype(\"int\")\n",
    "                avs=list((startX,startY))\n",
    "                evs=list((endX,endY))\n",
    "\n",
    "                #rectangle\n",
    "                t=dlib.correlation_tracker()\n",
    "                rect = dlib.rectangle(int(startX), int(startY), int(endX), int(endY))\n",
    "                t.start_track(rgb,rect)\n",
    "                \n",
    "                speed=estimateSpeed(avs,evs)\n",
    "                    \n",
    "                labels.append(label)\n",
    "                trackers.append(t)\n",
    "                    \n",
    "                cv2.rectangle(frame,(startX,startY),(endX,endY),(0,255,0),2)\n",
    "                cv2.putText(frame,label,(startX,startY-15),cv2.FONT_HERSHEY_SIMPLEX,0.45,\n",
    "                                (0,255,0),2)\n",
    "                    \n",
    "    else:\n",
    "        for (t,l) in zip(trackers,labels):\n",
    "            t.update(rgb)\n",
    "            pos=t.get_position()\n",
    "                        \n",
    "            startX=int(pos.left())\n",
    "            startY=int(pos.top())\n",
    "            endX=int(pos.right())\n",
    "            endY=int(pos.bottom())\n",
    "                        \n",
    "            cv2.rectangle(frame,(startX,startY),(endX,endY),(0,255,0),2)\n",
    "            cv2.putText(frame,l,(startX,startY-15),cv2.FONT_HERSHEY_SIMPLEX,0.45,\n",
    "                        (0,255,0),2)\n",
    "            cv2.putText(frame, str(speed/462)[:5],(0,20),cv2.FONT_HERSHEY_SIMPLEX,0.7,(255,0,0),2,\n",
    "                        cv2.LINE_AA)\n",
    "                \n",
    "    if writer is not None:\n",
    "        writer.write(frame)\n",
    "\n",
    "                \n",
    "    cv2.imshow(\"Frame\",frame)\n",
    "    key=cv2.waitKey(1) & 0xFF\n",
    "                \n",
    "    if key==ord('q'):\n",
    "        break\n",
    "                \n",
    "    fps.update()\n",
    "fps.stop()\n",
    "if writer is not None:\n",
    "    writer.release()\n",
    "cv2.destroyAllWindows()\n",
    "vs.release()\n",
    "print('Elapsed Time {:.2f}'.format(fps.elapsed()))\n",
    "print('Approx FPS {:.2f}'.format(fps.fps()))"
   ]
  },
  {
   "cell_type": "code",
   "execution_count": null,
   "metadata": {},
   "outputs": [],
   "source": []
  }
 ],
 "metadata": {
  "kernelspec": {
   "display_name": "Python 3",
   "language": "python",
   "name": "python3"
  },
  "language_info": {
   "codemirror_mode": {
    "name": "ipython",
    "version": 3
   },
   "file_extension": ".py",
   "mimetype": "text/x-python",
   "name": "python",
   "nbconvert_exporter": "python",
   "pygments_lexer": "ipython3",
   "version": "3.5.6"
  }
 },
 "nbformat": 4,
 "nbformat_minor": 2
}
